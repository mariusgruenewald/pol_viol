{
 "cells": [
  {
   "cell_type": "code",
   "execution_count": 1,
   "metadata": {},
   "outputs": [
    {
     "name": "stdout",
     "output_type": "stream",
     "text": [
      "Requirement already satisfied: pandas in c:\\users\\mariu\\anaconda3\\lib\\site-packages (1.2.4)\n",
      "Requirement already satisfied: numpy>=1.16.5 in c:\\users\\mariu\\anaconda3\\lib\\site-packages (from pandas) (1.20.2)\n",
      "Requirement already satisfied: pytz>=2017.3 in c:\\users\\mariu\\anaconda3\\lib\\site-packages (from pandas) (2021.1)\n",
      "Requirement already satisfied: python-dateutil>=2.7.3 in c:\\users\\mariu\\anaconda3\\lib\\site-packages (from pandas) (2.8.1)\n",
      "Requirement already satisfied: six>=1.5 in c:\\users\\mariu\\anaconda3\\lib\\site-packages (from python-dateutil>=2.7.3->pandas) (1.15.0)\n",
      "Requirement already satisfied: numpy in c:\\users\\mariu\\anaconda3\\lib\\site-packages (1.20.2)\n"
     ]
    }
   ],
   "source": [
    "# Install a pip package in the current Jupyter kernel\n",
    "import sys\n",
    "!{sys.executable} -m pip install pandas\n",
    "!{sys.executable} -m pip install numpy\n",
    "\n",
    "#import packages\n",
    "import pandas as pd\n",
    "import numpy as np\n",
    "import datetime as dt"
   ]
  },
  {
   "cell_type": "code",
   "execution_count": 2,
   "metadata": {},
   "outputs": [],
   "source": [
    "# Import data\n",
    "data_crime = pd.read_csv(r'https://raw.githubusercontent.com/mariusgruenewald/pol_viol/main/crime_data_edited.csv')\n",
    "data_share = pd.read_csv(r'https://raw.githubusercontent.com/mariusgruenewald/pol_viol/main/election_data_edited.csv')"
   ]
  },
  {
   "cell_type": "code",
   "execution_count": 3,
   "metadata": {},
   "outputs": [],
   "source": [
    "# get into datetime format\n",
    "data_crime['year'] = data_crime['date'].astype(str).str.split('.', expand=True)[2]\n",
    "data_crime['month'] = data_crime['date'].astype(str).str.split('.', expand=True)[1]\n",
    "data_crime['day'] = data_crime['date'].astype(str).str.split('.', expand=True)[0]\n",
    "data_crime['date'] = pd.to_datetime(data_crime[['year', 'month', 'day']].astype(float), errors='ignore')"
   ]
  },
  {
   "cell_type": "code",
   "execution_count": 4,
   "metadata": {},
   "outputs": [],
   "source": [
    "# Merge crime and candidate statistics with merge over city string\n",
    "data_crime = data_crime[(data_crime['Land'] == 14) | (data_crime['Land'] == 8) | (data_crime['Land'] == 16)]\n",
    "data_share['city'] = data_share['city'].str.replace(r'Stadt ', '')\n",
    "data_share['city'] = data_share['city'].str.replace('Ä', 'A').str.replace('Ö', 'O').str.replace('Ü', 'U')\n",
    "\n",
    "list_cities_share = data_share.sort_values('city')['city'].unique()\n",
    "list_cities_crime = data_crime['city'].unique()\n",
    "\n",
    "data_crime.rename({'Land':'state'}, axis=1, inplace=True)\n",
    "data_crime['state'] = data_crime['state'].map({16:'TH', 8:'BW', 14:'SN'})"
   ]
  },
  {
   "cell_type": "code",
   "execution_count": 5,
   "metadata": {},
   "outputs": [],
   "source": [
    "data_share.rename({'year':'cycle_1'}, axis=1, inplace=True)\n",
    "data_share['cycle_2'] = data_share['cycle_1']\n",
    "data_share['cycle_3'] = data_share['cycle_1']"
   ]
  },
  {
   "cell_type": "markdown",
   "metadata": {},
   "source": [
    "Merging over years and cities? How many different cutoffs? Directly on election day, one month before and three months before\n",
    "\n",
    "Cut-off days for the three states: 05.26.2019, 04.26.2019, 02.26.2019"
   ]
  },
  {
   "cell_type": "code",
   "execution_count": 6,
   "metadata": {},
   "outputs": [],
   "source": [
    "# creating different cycle variables in crime data to merge over\n",
    "data_crime['cycle_1'] = 2014\n",
    "data_crime.loc[data_crime['date'] > dt.datetime(2019, 5, 26, 0, 0), 'cycle_1'] = 2019\n",
    "\n",
    "data_crime['cycle_2'] = 2014\n",
    "data_crime.loc[data_crime['date'] > dt.datetime(2019, 4, 26, 0, 0), 'cycle_2'] = 2019\n",
    "\n",
    "data_crime['cycle_3'] = 2014\n",
    "data_crime.loc[data_crime['date'] > dt.datetime(2019, 2, 26, 0, 0), 'cycle_3'] = 2019"
   ]
  },
  {
   "cell_type": "code",
   "execution_count": null,
   "metadata": {},
   "outputs": [],
   "source": [
    "# drop wahlkreis\n",
    "data_share[~data_share['city'].str.contains('Wahlkreis')]"
   ]
  },
  {
   "cell_type": "code",
   "execution_count": null,
   "metadata": {},
   "outputs": [],
   "source": [
    "pd.merge(data_crime, data_share, on=['cycle_1', 'city', 'party', 'state'], how='right', validate='m:1')"
   ]
  },
  {
   "cell_type": "code",
   "execution_count": null,
   "metadata": {},
   "outputs": [],
   "source": [
    "list_double = pd.DataFrame()\n",
    "for city in data_share['city'].unique():\n",
    "    \n",
    "    data_city = data_share[data_share['city'] == city]\n",
    "    for party in data_city['party'].unique():\n",
    "        \n",
    "        data_party = data_city[data_city['party'] == party]\n",
    "        for election in data_party['cycle_1'].unique():\n",
    "            \n",
    "            data_election = data_party[data_party['cycle_1'] == election]\n",
    "            \n",
    "            if len(data_election) > 1:\n",
    "                \n",
    "                # append to dataset of \n",
    "                list_double = list_double.append(data_election)\n",
    "                "
   ]
  },
  {
   "cell_type": "code",
   "execution_count": null,
   "metadata": {},
   "outputs": [],
   "source": [
    "len(list_double['city']), len(data_share['city'])"
   ]
  },
  {
   "cell_type": "code",
   "execution_count": null,
   "metadata": {},
   "outputs": [],
   "source": [
    "list_double[list_double['state'] == 'SN']['city'].unique()"
   ]
  }
 ],
 "metadata": {
  "kernelspec": {
   "display_name": "Python 3",
   "language": "python",
   "name": "python3"
  },
  "language_info": {
   "codemirror_mode": {
    "name": "ipython",
    "version": 3
   },
   "file_extension": ".py",
   "mimetype": "text/x-python",
   "name": "python",
   "nbconvert_exporter": "python",
   "pygments_lexer": "ipython3",
   "version": "3.7.4"
  }
 },
 "nbformat": 4,
 "nbformat_minor": 4
}
