{
 "cells": [
  {
   "cell_type": "code",
   "execution_count": null,
   "metadata": {},
   "outputs": [],
   "source": [
    "# Install a pip package in the current Jupyter kernel\n",
    "# import sys\n",
    "# !{sys.executable} -m pip install pandas\n",
    "# !{sys.executable} -m pip install requests\n",
    "# !{sys.executable} -m pip install bs4\n",
    "# !{sys.executable} -m pip install pandas\n",
    "# !{sys.executable} -m pip install selenium\n",
    "# !{sys.executable} -m pip install time\n",
    "# !{sys.executable} -m pip install numpy\n",
    "# !{sys.executable} -m pip install urllib\n",
    "# !{sys.executable} -m pip install xlsxwriter\n",
    "# !{sys.executable} -m pip install openpyxl\n",
    "# !{sys.executable} -m pip install re"
   ]
  },
  {
   "cell_type": "code",
   "execution_count": null,
   "metadata": {},
   "outputs": [],
   "source": [
    "import pandas as pd\n",
    "import requests\n",
    "from bs4 import BeautifulSoup\n",
    "from selenium import webdriver\n",
    "from selenium.webdriver.common.keys import Keys\n",
    "import time\n",
    "import numpy as np\n",
    "from urllib.parse import urljoin\n",
    "import xlsxwriter\n",
    "from openpyxl import load_workbook\n",
    "import re"
   ]
  },
  {
   "cell_type": "code",
   "execution_count": null,
   "metadata": {},
   "outputs": [],
   "source": []
  }
 ],
 "metadata": {
  "kernelspec": {
   "display_name": "Python 3",
   "language": "python",
   "name": "python3"
  },
  "language_info": {
   "codemirror_mode": {
    "name": "ipython",
    "version": 3
   },
   "file_extension": ".py",
   "mimetype": "text/x-python",
   "name": "python",
   "nbconvert_exporter": "python",
   "pygments_lexer": "ipython3",
   "version": "3.7.4"
  }
 },
 "nbformat": 4,
 "nbformat_minor": 4
}
