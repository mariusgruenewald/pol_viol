{
 "cells": [
  {
   "cell_type": "code",
   "execution_count": 87,
   "metadata": {},
   "outputs": [],
   "source": [
    "from tabula import read_pdf\n",
    "from tabulate import tabulate"
   ]
  },
  {
   "cell_type": "code",
   "execution_count": 111,
   "metadata": {},
   "outputs": [
    {
     "name": "stdout",
     "output_type": "stream",
     "text": [
      "working on page 4\n",
      "None\n",
      "working on page 5\n",
      "None\n",
      "working on page 6\n",
      "None\n",
      "working on page 7\n",
      "None\n",
      "working on page 8\n",
      "None\n",
      "working on page 9\n",
      "None\n",
      "working on page 10\n",
      "None\n",
      "working on page 11\n",
      "None\n",
      "working on page 12\n",
      "None\n",
      "working on page 13\n",
      "None\n",
      "working on page 14\n",
      "None\n",
      "working on page 15\n",
      "None\n",
      "working on page 16\n",
      "None\n",
      "working on page 17\n",
      "None\n",
      "working on page 18\n",
      "None\n",
      "working on page 19\n",
      "None\n",
      "working on page 20\n",
      "None\n",
      "working on page 21\n",
      "None\n",
      "working on page 22\n",
      "None\n",
      "working on page 23\n",
      "None\n",
      "working on page 24\n",
      "None\n",
      "working on page 25\n",
      "None\n",
      "working on page 26\n",
      "None\n",
      "working on page 27\n",
      "None\n",
      "working on page 28\n",
      "None\n",
      "working on page 29\n",
      "None\n",
      "working on page 30\n",
      "None\n",
      "working on page 31\n",
      "None\n",
      "working on page 32\n",
      "None\n",
      "working on page 33\n",
      "None\n",
      "working on page 34\n",
      "None\n",
      "working on page 35\n",
      "None\n",
      "working on page 36\n",
      "None\n",
      "working on page 37\n",
      "None\n",
      "working on page 38\n",
      "None\n",
      "working on page 39\n",
      "None\n"
     ]
    }
   ],
   "source": [
    "file1 = r'C:\\Users\\mariu\\Documents\\pol_viol\\afd_2020q1.pdf'\n",
    "# \n",
    "tables = camelot.read_pdf(file1)\n",
    "\n",
    "with pdfplumber.open(file1) as pdf:\n",
    "    for page in range(4, len(pdf.pages)):\n",
    "        page_now = pdf.pages[page]\n",
    "        print(f\"working on page {page}\")\n",
    "        print(page_now.extract_table(table_settings={}))\n",
    "#df = read_pdf(file1,pages='all')"
   ]
  },
  {
   "cell_type": "code",
   "execution_count": 106,
   "metadata": {},
   "outputs": [
    {
     "data": {
      "text/html": [
       "<div>\n",
       "<style scoped>\n",
       "    .dataframe tbody tr th:only-of-type {\n",
       "        vertical-align: middle;\n",
       "    }\n",
       "\n",
       "    .dataframe tbody tr th {\n",
       "        vertical-align: top;\n",
       "    }\n",
       "\n",
       "    .dataframe thead th {\n",
       "        text-align: right;\n",
       "    }\n",
       "</style>\n",
       "<table border=\"1\" class=\"dataframe\">\n",
       "  <thead>\n",
       "    <tr style=\"text-align: right;\">\n",
       "      <th></th>\n",
       "      <th>or</th>\n",
       "      <th>Unnamed: 0</th>\n",
       "      <th>Unnamed: 1</th>\n",
       "      <th>Unnamed: 2</th>\n",
       "      <th>Unnamed: 3</th>\n",
       "      <th>Unnamed: 4</th>\n",
       "      <th>PD</th>\n",
       "    </tr>\n",
       "  </thead>\n",
       "  <tbody>\n",
       "    <tr>\n",
       "      <th>0</th>\n",
       "      <td>NaN</td>\n",
       "      <td>ww</td>\n",
       "      <td>.w .</td>\n",
       "      <td>NaN</td>\n",
       "      <td>c</td>\n",
       "      <td>om</td>\n",
       "      <td>NaN</td>\n",
       "    </tr>\n",
       "  </tbody>\n",
       "</table>\n",
       "</div>"
      ],
      "text/plain": [
       "   or Unnamed: 0 Unnamed: 1  Unnamed: 2 Unnamed: 3 Unnamed: 4  PD\n",
       "0 NaN         ww       .w .         NaN          c         om NaN"
      ]
     },
     "execution_count": 106,
     "metadata": {},
     "output_type": "execute_result"
    }
   ],
   "source": [
    "df[15]"
   ]
  },
  {
   "cell_type": "code",
   "execution_count": null,
   "metadata": {},
   "outputs": [],
   "source": []
  }
 ],
 "metadata": {
  "kernelspec": {
   "display_name": "Python 3",
   "language": "python",
   "name": "python3"
  },
  "language_info": {
   "codemirror_mode": {
    "name": "ipython",
    "version": 3
   },
   "file_extension": ".py",
   "mimetype": "text/x-python",
   "name": "python",
   "nbconvert_exporter": "python",
   "pygments_lexer": "ipython3",
   "version": "3.7.4"
  }
 },
 "nbformat": 4,
 "nbformat_minor": 4
}
