{
 "cells": [
  {
   "cell_type": "code",
   "execution_count": null,
   "metadata": {},
   "outputs": [],
   "source": []
  },
  {
   "cell_type": "code",
   "execution_count": null,
   "metadata": {},
   "outputs": [],
   "source": []
  },
  {
   "cell_type": "code",
   "execution_count": null,
   "metadata": {},
   "outputs": [],
   "source": [
    "def get_url1(name):\n",
    "    e.send_keys(name)\n",
    "    e.send_keys(Keys.ENTER)\n",
    "    soup = BeautifulSoup(d.page_source)\n",
    "    d.find_element_by_id('suchfeld').clear()\n",
    "    time.sleep(0.7)\n",
    "    links = soup.find('tbody').find_all('a') \n",
    "    return [link.get('href') for link in links if 'Votemanager' not in link]"
   ]
  },
  {
   "cell_type": "code",
   "execution_count": null,
   "metadata": {},
   "outputs": [],
   "source": [
    "def get_url2(url1):\n",
    "    \"\"\" To get the urls specific to the Ratswahl elections.\n",
    "    It takes as input the overview url for each municipality from wahlen.regioit\n",
    "    and returns a list of all Ratswahl-url from its html text.\n",
    "    \"\"\"\n",
    "    base = url1\n",
    "    r = requests.get(url1)\n",
    "    soup = BeautifulSoup(r.text)\n",
    "    \n",
    "    kom_row  = [ r for r in soup.find_all('tr') if 'Kommunalwahlen' in r.text ]\n",
    "    \n",
    "    res = [link.get('href') for link in BeautifulSoup(str(kom_row)).find_all('a') if '27.03.2011' in link]\n",
    "    \n",
    "    if res:\n",
    "        href=res.pop()\n",
    "        return urljoin(base,href)\n",
    "    else:\n",
    "        return np.nan"
   ]
  },
  {
   "cell_type": "code",
   "execution_count": null,
   "metadata": {},
   "outputs": [],
   "source": []
  }
 ],
 "metadata": {
  "kernelspec": {
   "display_name": "Python 3",
   "language": "python",
   "name": "python3"
  },
  "language_info": {
   "name": ""
  }
 },
 "nbformat": 4,
 "nbformat_minor": 4
}
