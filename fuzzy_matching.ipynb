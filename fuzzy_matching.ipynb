{
 "cells": [
  {
   "cell_type": "code",
   "execution_count": 24,
   "metadata": {},
   "outputs": [
    {
     "name": "stdout",
     "output_type": "stream",
     "text": [
      "Requirement already satisfied: fuzzywuzzy in c:\\users\\mariu\\anaconda3\\lib\\site-packages (0.18.0)\n"
     ]
    }
   ],
   "source": [
    "!pip install fuzzywuzzy\n",
    "import os\n",
    "import re\n",
    "import pandas as pd\n",
    "import numpy as np\n",
    "from fuzzywuzzy import fuzz"
   ]
  },
  {
   "cell_type": "code",
   "execution_count": 151,
   "metadata": {},
   "outputs": [],
   "source": [
    "def fuzzy_matching(data_names, record_names):\n",
    "    \n",
    "    best_names = pd.DataFrame(np.zeros(len(data_names)), columns=[\"name\"])\n",
    "    best_names = pd.concat([best_names, pd.DataFrame(np.zeros(len(data_names)), columns=[\"match_name\"])], axis=1)\n",
    "    best_names = pd.concat([best_names, pd.DataFrame(np.zeros(len(data_names)), columns=[\"score\"])], axis=1)\n",
    "\n",
    "    storage = np.zeros((len(data_names), len(record_names)), dtype=int)\n",
    "    for i in range(len(data_names)):\n",
    "        x = data_names[i]\n",
    "        best_names[\"name\"][i] = x\n",
    "\n",
    "        for j in range(len(record_names)):\n",
    "            y = record_names[j]\n",
    "            storage[i,j] = fuzz.ratio(x, y)\n",
    "\n",
    "        best_names[\"match_name\"][i] = record_names[np.argmax(storage[i,:])]\n",
    "        best_names[\"score\"][i] = np.max(storage[i,:])\n",
    "        \n",
    "    return best_names\n"
   ]
  }
 ],
 "metadata": {
  "kernelspec": {
   "display_name": "Python 3",
   "language": "python",
   "name": "python3"
  },
  "language_info": {
   "codemirror_mode": {
    "name": "ipython",
    "version": 3
   },
   "file_extension": ".py",
   "mimetype": "text/x-python",
   "name": "python",
   "nbconvert_exporter": "python",
   "pygments_lexer": "ipython3",
   "version": "3.7.4"
  }
 },
 "nbformat": 4,
 "nbformat_minor": 4
}
