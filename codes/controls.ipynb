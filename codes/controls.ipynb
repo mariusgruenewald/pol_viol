{
 "cells": [
  {
   "cell_type": "code",
   "execution_count": 2,
   "metadata": {},
   "outputs": [],
   "source": [
    "# Import necessities\n",
    "import pandas as pd"
   ]
  },
  {
   "cell_type": "code",
   "execution_count": 3,
   "metadata": {},
   "outputs": [
    {
     "name": "stdout",
     "output_type": "stream",
     "text": [
      "31122009_Auszug_GV\n",
      "31122011_Auszug_GV\n",
      "31122014_Auszug_GV\n",
      "31122016_Auszug_GV\n",
      "31122019_Auszug_GV\n"
     ]
    },
    {
     "name": "stderr",
     "output_type": "stream",
     "text": [
      "C:\\Users\\Marius\\AppData\\Local\\Temp\\ipykernel_4880\\2428639600.py:17: FutureWarning: The frame.append method is deprecated and will be removed from pandas in a future version. Use pandas.concat instead.\n",
      "  data_main = data_main.append(data_now)\n",
      "C:\\Users\\Marius\\AppData\\Local\\Temp\\ipykernel_4880\\2428639600.py:17: FutureWarning: The frame.append method is deprecated and will be removed from pandas in a future version. Use pandas.concat instead.\n",
      "  data_main = data_main.append(data_now)\n",
      "C:\\Users\\Marius\\AppData\\Local\\Temp\\ipykernel_4880\\2428639600.py:17: FutureWarning: The frame.append method is deprecated and will be removed from pandas in a future version. Use pandas.concat instead.\n",
      "  data_main = data_main.append(data_now)\n",
      "C:\\Users\\Marius\\AppData\\Local\\Temp\\ipykernel_4880\\2428639600.py:17: FutureWarning: The frame.append method is deprecated and will be removed from pandas in a future version. Use pandas.concat instead.\n",
      "  data_main = data_main.append(data_now)\n",
      "C:\\Users\\Marius\\AppData\\Local\\Temp\\ipykernel_4880\\2428639600.py:17: FutureWarning: The frame.append method is deprecated and will be removed from pandas in a future version. Use pandas.concat instead.\n",
      "  data_main = data_main.append(data_now)\n"
     ]
    },
    {
     "name": "stdout",
     "output_type": "stream",
     "text": [
      "31122021_Auszug_GV\n"
     ]
    },
    {
     "name": "stderr",
     "output_type": "stream",
     "text": [
      "C:\\Users\\Marius\\AppData\\Local\\Temp\\ipykernel_4880\\2428639600.py:17: FutureWarning: The frame.append method is deprecated and will be removed from pandas in a future version. Use pandas.concat instead.\n",
      "  data_main = data_main.append(data_now)\n"
     ]
    }
   ],
   "source": [
    "# import control variable files\n",
    "path_base = r\"C:\\\\Users\\\\Marius\\\\OneDrive - Istituto Universitario Europeo\\Documents\\\\pol_viol\\\\data\\\\\"\n",
    "\n",
    "path_addendum = [\"31122009_Auszug_GV\", \"31122011_Auszug_GV\", \"31122014_Auszug_GV\", \"31122016_Auszug_GV\", \"31122019_Auszug_GV\", \n",
    "\"31122021_Auszug_GV\"]\n",
    "years = [2009, 2011, 2014, 2016, 2019, 2021]\n",
    "\n",
    "path_ending = \".csv\"\n",
    "\n",
    "data_main = pd.DataFrame()\n",
    "for (part, year) in zip(path_addendum, years):\n",
    "    print(part)\n",
    "    path_now = path_base + part + path_ending\n",
    "    data_now = pd.read_csv(path_now, sep=\";\")\n",
    "    data_now[\"year\"] = year\n",
    "\n",
    "    data_main = data_main.append(data_now)"
   ]
  },
  {
   "cell_type": "code",
   "execution_count": 6,
   "metadata": {},
   "outputs": [],
   "source": []
  },
  {
   "cell_type": "code",
   "execution_count": 7,
   "metadata": {},
   "outputs": [
    {
     "name": "stderr",
     "output_type": "stream",
     "text": [
      "C:\\Users\\Marius\\AppData\\Local\\Temp\\ipykernel_4880\\207965838.py:3: SettingWithCopyWarning: \n",
      "A value is trying to be set on a copy of a slice from a DataFrame\n",
      "\n",
      "See the caveats in the documentation: https://pandas.pydata.org/pandas-docs/stable/user_guide/indexing.html#returning-a-view-versus-a-copy\n",
      "  data_main.dropna(inplace=True)\n",
      "C:\\Users\\Marius\\AppData\\Local\\Temp\\ipykernel_4880\\207965838.py:8: FutureWarning: The frame.append method is deprecated and will be removed from pandas in a future version. Use pandas.concat instead.\n",
      "  data_main = data_main_1.append(data_main_2)\n"
     ]
    }
   ],
   "source": [
    "data_main.rename({\"Unnamed: 8\":\"size\"}, axis=1, inplace=True)\n",
    "data_main = data_main[[\"plz\", \"year\", \"Land\", \"insgesamt\", \"weiblich\", \"je km2\", \"Grad der Verstädterung\", \"size\"]]\n",
    "data_main.dropna(inplace=True)\n",
    "data_main_1 = data_main[((data_main[\"Land\"] == 8) | (data_main[\"Land\"] == 12) | (data_main[\"Land\"] == 14) | (data_main[\"Land\"] == 16))\n",
    " & ((data_main[\"year\"] == 2009) | (data_main[\"year\"] == 2014) | (data_main[\"year\"] == 2019))]\n",
    "data_main_2 = data_main[(data_main[\"Land\"] == 6) & \n",
    "((data_main[\"year\"] == 2011) | (data_main[\"year\"] == 2016) | (data_main[\"year\"] == 2021))]\n",
    "data_main = data_main_1.append(data_main_2)\n",
    "data_main.drop(\"Land\", axis=1, inplace=True)\n",
    "data_main.reset_index(drop=True, inplace=True)\n",
    "data_main.rename({\"insgesamt\":\"pop\", \"weiblich\":\"female\", \"je km2\":\"density\", \"Grad der Verstädterung\":\"degree_urban\"}, inplace=True, axis=1)"
   ]
  },
  {
   "cell_type": "code",
   "execution_count": 8,
   "metadata": {},
   "outputs": [],
   "source": [
    "data_main[\"pop\"] = data_main[\"pop\"].str.replace(\" \", \"\")\n",
    "data_main[\"female\"] = data_main[\"female\"].str.replace(\" \", \"\")\n",
    "\n",
    "data_main[\"pop\"] = pd.to_numeric(data_main[\"pop\"], errors='coerce')\n",
    "data_main[\"female\"] = pd.to_numeric(data_main[\"female\"], errors='coerce')\n",
    "\n",
    "data_main[\"share_fem\"] = data_main[\"female\"]/data_main[\"pop\"]"
   ]
  },
  {
   "cell_type": "code",
   "execution_count": 9,
   "metadata": {},
   "outputs": [],
   "source": [
    "data_main.to_csv(r\"C:\\\\Users\\\\Marius\\\\OneDrive - Istituto Universitario Europeo\\Documents\\\\pol_viol\\\\data\\\\pop_controls.csv\")"
   ]
  }
 ],
 "metadata": {
  "kernelspec": {
   "display_name": "Python 3",
   "language": "python",
   "name": "python3"
  },
  "language_info": {
   "codemirror_mode": {
    "name": "ipython",
    "version": 3
   },
   "file_extension": ".py",
   "mimetype": "text/x-python",
   "name": "python",
   "nbconvert_exporter": "python",
   "pygments_lexer": "ipython3",
   "version": "3.9.6"
  },
  "orig_nbformat": 4,
  "vscode": {
   "interpreter": {
    "hash": "11938c6bc6919ae2720b4d5011047913343b08a43b18698fd82dedb0d4417594"
   }
  }
 },
 "nbformat": 4,
 "nbformat_minor": 2
}
